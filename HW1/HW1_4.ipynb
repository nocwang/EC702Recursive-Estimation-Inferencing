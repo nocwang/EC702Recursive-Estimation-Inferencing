{
 "cells": [
  {
   "cell_type": "code",
   "execution_count": 1,
   "metadata": {
    "collapsed": true
   },
   "outputs": [],
   "source": [
    "import matplotlib.pyplot as plt\n",
    "import numpy as np\n",
    "import pandas as pd"
   ]
  },
  {
   "cell_type": "code",
   "execution_count": 63,
   "metadata": {},
   "outputs": [
    {
     "data": {
      "text/plain": [
       "(20, 2)"
      ]
     },
     "execution_count": 63,
     "metadata": {},
     "output_type": "execute_result"
    }
   ],
   "source": [
    "y20= np.loadtxt('trackdata.txt')\n",
    "y20.shape\n",
    "# y20"
   ]
  },
  {
   "cell_type": "code",
   "execution_count": 64,
   "metadata": {},
   "outputs": [],
   "source": [
    "# plt.scatter(y20[:,0], y20[:,1]-y20[:,0])\n",
    "# plt.show()"
   ]
  },
  {
   "cell_type": "markdown",
   "metadata": {},
   "source": [
    "You can do anything in numpy that you would have done in Matlab.  One small caution:  make sure your arrays are of type Matrix instead of numpy arrays so that the multiplication operator * acts like a matrix multiply rather than an element-by-element multiply.  The default * operator for numpy arrays is equivalent to the Matlab .* element by element multiply.  "
   ]
  },
  {
   "cell_type": "code",
   "execution_count": 57,
   "metadata": {
    "collapsed": true
   },
   "outputs": [],
   "source": [
    "def kalman_update(x, P, y, R, G, Q, A, C):\n",
    "    '''\n",
    "    Parameters:\n",
    "    x: initial state\n",
    "    P: initial uncertainty convariance matrix\n",
    "    y: observed position measurement (same shape as C*x)\n",
    "    R: measurement noise convariance matrix(same shape as C)\n",
    "    Q: motion noise convariance matrix \n",
    "    A: next state function: x_prime = A*x+G*w\n",
    "    C: measurement function: y = C*x+v\n",
    "\n",
    "    Return: the updated new values for (x, P)\n",
    "    '''\n",
    "    # UPDATE x, P; x(t|t), P(t|t) based on measurement y   and x(t|t-1), P(t|t-1)\n",
    "    S = C * P * C.T + R  # residual convariance\n",
    "    K = P * C.T * S.I    # Kalman gain\n",
    "    x = x + K*(y.T - C * x)#np.matrix(y)\n",
    "    P = P - K*C*P\n",
    "#     I = np.matrix(np.eye(A.shape[0])) # identity matrix\n",
    "#     P = (I - K*C)*P\n",
    "\n",
    "    return x, P\n",
    "\n",
    "def kalman_predict(x, P, y, R, G, Q, A, C):\n",
    "    '''\n",
    "    Parameters:\n",
    "    x: initial state\n",
    "    P: initial uncertainty convariance matrix\n",
    "    y: observed position measurement (same shape as C*x)\n",
    "    R: measurement noise convariance matrix(same shape as C)\n",
    "    Q: motion noise convariance matrix \n",
    "    A: next state function: x_prime = A*x+G*w\n",
    "    C: measurement function: y = C*x+v\n",
    "\n",
    "    Return: the  predicted new values for (x, P)\n",
    "    '''\n",
    "    # PREDICT x(t+1|t), P(t+1|t) based after updated value x(t|t), P(t|t)\n",
    "    x = A*x \n",
    "    P = A*P*A.T + G*Q*G.T\n",
    "\n",
    "    return x, P"
   ]
  },
  {
   "cell_type": "code",
   "execution_count": 58,
   "metadata": {},
   "outputs": [],
   "source": [
    "# np.matrix(np.eye(4))\n",
    "# np.zeros((2, 4))\n",
    "# x[[0,2]]\n",
    "\n",
    "# y #array([-18.338,  -7.838])\n",
    "# np.matrix(y)#matrix([[-18.338,  -7.838]])"
   ]
  },
  {
   "cell_type": "code",
   "execution_count": 61,
   "metadata": {},
   "outputs": [
    {
     "data": {
      "image/png": "[encoded data removed]",
      "text/plain": [
       "<matplotlib.figure.Figure at 0x7f317a143518>"
      ]
     },
     "metadata": {},
     "output_type": "display_data"
    }
   ],
   "source": [
    "x = np.matrix(np.zeros((4, 1)))\n",
    "P = np.matrix(np.eye(4)) # initial uncertainty\n",
    "Q = 0.09*np.matrix(np.eye(2))\n",
    "R = 0.16*np.matrix(np.eye(2))\n",
    "G=np.matrix([[ 0.,  0.],\n",
    "       [ 1.,  0.],\n",
    "       [ 0.,  0.],\n",
    "       [ 0.,  1.]])\n",
    "A=np.matrix([[ 1.,  1.,  0.,  0.],\n",
    "        [ 0.,  1.,  0.,  0.],\n",
    "        [ 0.,  0.,  1.,  1.],\n",
    "        [ 0.,  0.,  0.,  1.]])\n",
    "C=np.matrix([[ 1.,  0.,  0.,  0.],\n",
    "       [ 1.,  0.,  1.,  0.]])\n",
    "\n",
    "result = []    \n",
    "for y in y20:\n",
    "    y=np.matrix(y)# row matrix\n",
    "    x, P = kalman_update(x, P, y, R, G, Q, A, C)\n",
    "    result.append((x[[0,2]]).tolist())\n",
    "    x, P = kalman_predict(x, P, y, R, G, Q, A, C)\n",
    "kalman_x, kalman_y = zip(*result)\n",
    "plt.plot(kalman_x, kalman_y, 'g-')\n",
    "plt.scatter(y20[:,0], y20[:,1]-y20[:,0])\n",
    "plt.show()"
   ]
  },
  {
   "cell_type": "markdown",
   "metadata": {},
   "source": [
    "# green line is Kalman filter\n",
    "\n",
    "# blue scatter is my own naive guess using the combination of y\n",
    "\n",
    "# similar result but Kalman filter may offer more, e.g., 2nd and 4th state which are not directly measurable from y, but 2nd and 4th state affected 1st and 3rd state which also affect output y"
   ]
  },
  {
   "cell_type": "code",
   "execution_count": 62,
   "metadata": {},
   "outputs": [
    {
     "data": {
      "text/plain": [
       "matrix([[-18.81130598],\n",
       "        [ -0.39088188],\n",
       "        [ 10.99307678],\n",
       "        [  0.33477848]])"
      ]
     },
     "execution_count": 62,
     "metadata": {},
     "output_type": "execute_result"
    }
   ],
   "source": [
    "x"
   ]
  },
  {
   "cell_type": "markdown",
   "metadata": {},
   "source": [
    "## Reference: other shared code\n",
    "## https://stackoverflow.com/questions/13901997/kalman-2d-filter-in-python"
   ]
  },
  {
   "cell_type": "code",
   "execution_count": 38,
   "metadata": {},
   "outputs": [],
   "source": [
    "# import numpy as np\n",
    "# import matplotlib.pyplot as plt\n",
    "\n",
    "# def kalman_xy(x, P, measurement, R,\n",
    "#               motion = np.matrix('0. 0. 0. 0.').T,\n",
    "#               Q = np.matrix(np.eye(4))):\n",
    "#     \"\"\"\n",
    "#     Parameters:    \n",
    "#     x: initial state 4-tuple of location and velocity: (x0, x1, x0_dot, x1_dot)\n",
    "#     P: initial uncertainty convariance matrix\n",
    "#     measurement: observed position\n",
    "#     R: measurement noise \n",
    "#     motion: external motion added to state vector x\n",
    "#     Q: motion noise (same shape as P)\n",
    "#     \"\"\"\n",
    "#     return kalman(x, P, measurement, R, motion, Q,\n",
    "#                   F = np.matrix('''\n",
    "#                       1. 0. 1. 0.;\n",
    "#                       0. 1. 0. 1.;\n",
    "#                       0. 0. 1. 0.;\n",
    "#                       0. 0. 0. 1.\n",
    "#                       '''),\n",
    "#                   H = np.matrix('''\n",
    "#                       1. 0. 0. 0.;\n",
    "#                       0. 1. 0. 0.'''))\n",
    "\n",
    "# def kalman(x, P, measurement, R, motion, Q, F, H):\n",
    "#     '''\n",
    "#     Parameters:\n",
    "#     x: initial state\n",
    "#     P: initial uncertainty convariance matrix\n",
    "#     measurement: observed position (same shape as H*x)\n",
    "#     R: measurement noise (same shape as H)\n",
    "#     motion: external motion added to state vector x\n",
    "#     Q: motion noise (same shape as P)\n",
    "#     F: next state function: x_prime = F*x\n",
    "#     H: measurement function: position = H*x\n",
    "\n",
    "#     Return: the updated and predicted new values for (x, P)\n",
    "\n",
    "#     See also http://en.wikipedia.org/wiki/Kalman_filter\n",
    "\n",
    "#     This version of kalman can be applied to many different situations by\n",
    "#     appropriately defining F and H \n",
    "#     '''\n",
    "#     # UPDATE x, P based on measurement m    \n",
    "#     # distance between measured and current position-belief\n",
    "#     y = np.matrix(measurement).T - H * x\n",
    "#     S = H * P * H.T + R  # residual convariance\n",
    "#     K = P * H.T * S.I    # Kalman gain\n",
    "#     x = x + K*y\n",
    "#     I = np.matrix(np.eye(F.shape[0])) # identity matrix\n",
    "#     P = (I - K*H)*P\n",
    "\n",
    "#     # PREDICT x, P based on motion\n",
    "#     x = F*x + motion\n",
    "#     P = F*P*F.T + Q\n",
    "\n",
    "#     return x, P\n",
    "\n",
    "# def demo_kalman_xy():\n",
    "#     x = np.matrix('0. 0. 0. 0.').T \n",
    "#     P = np.matrix(np.eye(4))*1000 # initial uncertainty\n",
    "\n",
    "#     N = 20\n",
    "#     true_x = np.linspace(0.0, 10.0, N)\n",
    "#     true_y = true_x**2\n",
    "#     observed_x = true_x + 0.05*np.random.random(N)*true_x\n",
    "#     observed_y = true_y + 0.05*np.random.random(N)*true_y\n",
    "#     plt.plot(observed_x, observed_y, 'ro')\n",
    "#     result = []\n",
    "#     R = 0.01**2\n",
    "#     for meas in zip(observed_x, observed_y):\n",
    "#         x, P = kalman_xy(x, P, meas, R)\n",
    "#         result.append((x[:2]).tolist())\n",
    "#     kalman_x, kalman_y = zip(*result)\n",
    "#     plt.plot(kalman_x, kalman_y, 'g-')\n",
    "#     plt.show()\n",
    "\n",
    "# demo_kalman_xy()"
   ]
  },
  {
   "cell_type": "code",
   "execution_count": null,
   "metadata": {
    "collapsed": true
   },
   "outputs": [],
   "source": []
  }
 ],
 "metadata": {
  "kernelspec": {
   "display_name": "Python 3",
   "language": "python",
   "name": "python3"
  },
  "language_info": {
   "codemirror_mode": {
    "name": "ipython",
    "version": 3
   },
   "file_extension": ".py",
   "mimetype": "text/x-python",
   "name": "python",
   "nbconvert_exporter": "python",
   "pygments_lexer": "ipython3",
   "version": "3.6.1"
  }
 },
 "nbformat": 4,
 "nbformat_minor": 2
}
