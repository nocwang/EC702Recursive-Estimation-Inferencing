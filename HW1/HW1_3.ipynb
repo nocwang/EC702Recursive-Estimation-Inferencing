{
 "cells": [
  {
   "cell_type": "code",
   "execution_count": 46,
   "metadata": {
    "collapsed": true
   },
   "outputs": [],
   "source": [
    "import matplotlib.pyplot as plt\n",
    "import numpy as np\n",
    "import pandas as pd"
   ]
  },
  {
   "cell_type": "code",
   "execution_count": 47,
   "metadata": {},
   "outputs": [],
   "source": [
    "nls_data= np.loadtxt('nls_data.txt')"
   ]
  },
  {
   "cell_type": "code",
   "execution_count": 48,
   "metadata": {
    "scrolled": true
   },
   "outputs": [
    {
     "data": {
      "text/plain": [
       "(100, 2)"
      ]
     },
     "execution_count": 48,
     "metadata": {},
     "output_type": "execute_result"
    }
   ],
   "source": [
    "nls_data.shape"
   ]
  },
  {
   "cell_type": "code",
   "execution_count": 49,
   "metadata": {},
   "outputs": [
    {
     "data": {
      "text/plain": [
       "array([[  2.311,  18.015],\n",
       "       [  6.068,  34.638],\n",
       "       [  4.86 ,  28.423],\n",
       "       [  8.913,  52.197],\n",
       "       [  7.621,  43.323],\n",
       "       [  4.565,  27.309],\n",
       "       [  0.185,  11.319],\n",
       "       [  8.214,  47.461],\n",
       "       [  4.447,  26.839]])"
      ]
     },
     "execution_count": 49,
     "metadata": {},
     "output_type": "execute_result"
    }
   ],
   "source": [
    "nls_data[1:10,]"
   ]
  },
  {
   "cell_type": "code",
   "execution_count": 50,
   "metadata": {},
   "outputs": [],
   "source": [
    "x=nls_data[:,0]\n",
    "y=nls_data[:,1]"
   ]
  },
  {
   "cell_type": "code",
   "execution_count": 51,
   "metadata": {},
   "outputs": [],
   "source": [
    "x=x.reshape((-1,1))\n",
    "# x.shape\n",
    "y=y.reshape((-1,1))"
   ]
  },
  {
   "cell_type": "code",
   "execution_count": 52,
   "metadata": {},
   "outputs": [
    {
     "data": {
      "image/png": "[encoded data removed]",
      "text/plain": [
       "<matplotlib.figure.Figure at 0x7f5243de10f0>"
      ]
     },
     "metadata": {},
     "output_type": "display_data"
    }
   ],
   "source": [
    "plt.plot(x, y, linewidth=2.0)\n",
    "plt.show()"
   ]
  },
  {
   "cell_type": "code",
   "execution_count": 53,
   "metadata": {},
   "outputs": [],
   "source": [
    "# np.ones(y.shape)"
   ]
  },
  {
   "cell_type": "code",
   "execution_count": 54,
   "metadata": {},
   "outputs": [
    {
     "data": {
      "text/plain": [
       "(100, 1)"
      ]
     },
     "execution_count": 54,
     "metadata": {},
     "output_type": "execute_result"
    }
   ],
   "source": [
    "y.shape"
   ]
  },
  {
   "cell_type": "markdown",
   "metadata": {},
   "source": [
    "# a"
   ]
  },
  {
   "cell_type": "markdown",
   "metadata": {},
   "source": [
    "Find the best linear fit to the data, assuming a form z = ax + b. This is a least-squares problem of the\n",
    "form unknowns a, b: Minimize\n",
    "100\n",
    "(z i − ax i − b) 2 = (z − ax − b1) T (z − ax − b1) = (z − A\n",
    "i=1\n",
    "where A = x\n",
    "a T\n",
    "a\n",
    ") (z − A\n",
    ")\n",
    "b\n",
    "b\n",
    "1 , 1 is the vector of all 1s. Setting the gradient equal to 0 gives:\n",
    "A T A\n",
    "a\n",
    "b\n",
    "= A T z\n",
    "In MATLAB, one solves linear equations Ax = b as x = A\\b. Solve for the optimal values of a, b."
   ]
  },
  {
   "cell_type": "code",
   "execution_count": 55,
   "metadata": {
    "scrolled": true
   },
   "outputs": [],
   "source": [
    "A=np.concatenate(( np.ones(y.shape),x), axis=1)\n",
    "\n",
    "solution = np.linalg.solve(np.dot(A.T, A), np.dot(A.T, y))"
   ]
  },
  {
   "cell_type": "code",
   "execution_count": 56,
   "metadata": {},
   "outputs": [],
   "source": [
    "# np.dot(A.T, A)"
   ]
  },
  {
   "cell_type": "code",
   "execution_count": 57,
   "metadata": {},
   "outputs": [
    {
     "data": {
      "text/plain": [
       "array([[ 6.4407104 ],\n",
       "       [ 4.94821273]])"
      ]
     },
     "execution_count": 57,
     "metadata": {},
     "output_type": "execute_result"
    }
   ],
   "source": [
    "solution"
   ]
  },
  {
   "cell_type": "code",
   "execution_count": 58,
   "metadata": {},
   "outputs": [
    {
     "data": {
      "text/plain": [
       "(2, 1)"
      ]
     },
     "execution_count": 58,
     "metadata": {},
     "output_type": "execute_result"
    }
   ],
   "source": [
    "solution.shape"
   ]
  },
  {
   "cell_type": "markdown",
   "metadata": {},
   "source": [
    "## optimal a=4.94821273, b=6.4407104 since a, b are the coefficents of x and 1"
   ]
  },
  {
   "cell_type": "markdown",
   "metadata": {},
   "source": [
    "# b"
   ]
  },
  {
   "cell_type": "markdown",
   "metadata": {},
   "source": [
    "Find the error e = z − A(a,b) and compute the error in the fit e T e"
   ]
  },
  {
   "cell_type": "code",
   "execution_count": 59,
   "metadata": {},
   "outputs": [
    {
     "name": "stdout",
     "output_type": "stream",
     "text": [
      "squared error is[[ 315.61362162]]\n"
     ]
    }
   ],
   "source": [
    "e=y-np.dot(A, solution)\n",
    "# np.dot(e.T, e)\n",
    "print('squared error is'+ str(np.dot(e.T, e)))"
   ]
  },
  {
   "cell_type": "markdown",
   "metadata": {},
   "source": [
    "## the squared error in the fit is 315.61362162"
   ]
  },
  {
   "cell_type": "markdown",
   "metadata": {},
   "source": [
    "# c"
   ]
  },
  {
   "cell_type": "code",
   "execution_count": 60,
   "metadata": {},
   "outputs": [
    {
     "name": "stdout",
     "output_type": "stream",
     "text": [
      "coefficents are\n",
      "[[ 10.84087371]\n",
      " [  2.46637377]\n",
      " [  0.24353659]]\n",
      "squared error is[[ 12.96553533]]\n"
     ]
    }
   ],
   "source": [
    "A=np.concatenate(( np.ones(y.shape),x,x**2), axis=1)\n",
    "\n",
    "solution = np.linalg.solve(np.dot(A.T, A), np.dot(A.T, y))\n",
    "print('coefficents are')\n",
    "print(solution)\n",
    "e=y-np.dot(A, solution)\n",
    "print('squared error is'+ str(np.dot(e.T, e)))"
   ]
  },
  {
   "cell_type": "markdown",
   "metadata": {},
   "source": [
    "# d"
   ]
  },
  {
   "cell_type": "code",
   "execution_count": 61,
   "metadata": {},
   "outputs": [
    {
     "name": "stdout",
     "output_type": "stream",
     "text": [
      "coefficents are\n",
      "[[ 10.22796758]\n",
      " [  3.20317649]\n",
      " [  0.05674414]\n",
      " [  0.01264405]]\n",
      "squared error is[[ 7.34031963]]\n"
     ]
    }
   ],
   "source": [
    "A=np.concatenate(( np.ones(y.shape),x,x**2,x**3), axis=1)\n",
    "\n",
    "solution = np.linalg.solve(np.dot(A.T, A), np.dot(A.T, y))\n",
    "print('coefficents are')\n",
    "print(solution)\n",
    "e=y-np.dot(A, solution)\n",
    "print('squared error is'+ str(np.dot(e.T, e)))"
   ]
  },
  {
   "cell_type": "markdown",
   "metadata": {},
   "source": [
    "# e"
   ]
  },
  {
   "cell_type": "code",
   "execution_count": 62,
   "metadata": {},
   "outputs": [
    {
     "name": "stdout",
     "output_type": "stream",
     "text": [
      "coefficents are\n",
      "[[  1.02623793e+01]\n",
      " [  3.12225212e+00]\n",
      " [  9.48486391e-02]\n",
      " [  6.57332330e-03]\n",
      " [  3.09101349e-04]]\n",
      "squared error is[[ 7.31881618]]\n"
     ]
    }
   ],
   "source": [
    "A=np.concatenate(( np.ones(y.shape),x,x**2,x**3,x**4), axis=1)\n",
    "\n",
    "solution = np.linalg.solve(np.dot(A.T, A), np.dot(A.T, y))\n",
    "print('coefficents are')\n",
    "print(solution)\n",
    "e=y-np.dot(A, solution)\n",
    "print('squared error is'+ str(np.dot(e.T, e)))"
   ]
  },
  {
   "cell_type": "markdown",
   "metadata": {},
   "source": [
    "# f"
   ]
  },
  {
   "cell_type": "code",
   "execution_count": 63,
   "metadata": {},
   "outputs": [
    {
     "data": {
      "text/plain": [
       "array([[ 2.48575132],\n",
       "       [ 0.16908878]])"
      ]
     },
     "execution_count": 63,
     "metadata": {},
     "output_type": "execute_result"
    }
   ],
   "source": [
    "A=np.concatenate(( np.ones(y.shape),x), axis=1)\n",
    "\n",
    "solution = np.linalg.solve(np.dot(A.T, A), np.dot(A.T, np.log(y)))\n",
    "solution"
   ]
  },
  {
   "cell_type": "markdown",
   "metadata": {},
   "source": [
    "## optimal a=0.16908878, b=2.48575132 since a, b are the coefficents of x and 1"
   ]
  },
  {
   "cell_type": "markdown",
   "metadata": {},
   "source": [
    "# g"
   ]
  },
  {
   "cell_type": "code",
   "execution_count": 64,
   "metadata": {
    "scrolled": true
   },
   "outputs": [
    {
     "data": {
      "text/plain": [
       "array([[ 0.23199561]])"
      ]
     },
     "execution_count": 64,
     "metadata": {},
     "output_type": "execute_result"
    }
   ],
   "source": [
    "ee=np.log(y)-np.dot(A, solution)\n",
    "np.dot(ee.T, ee)"
   ]
  },
  {
   "cell_type": "code",
   "execution_count": 65,
   "metadata": {},
   "outputs": [
    {
     "name": "stdout",
     "output_type": "stream",
     "text": [
      "squared error is[[ 191.55933517]]\n"
     ]
    }
   ],
   "source": [
    "e=y-np.exp(np.dot(A, solution))\n",
    "# np.dot(e.T, e)\n",
    "print('squared error is'+ str(np.dot(e.T, e)))"
   ]
  },
  {
   "cell_type": "markdown",
   "metadata": {},
   "source": [
    "# h"
   ]
  },
  {
   "cell_type": "markdown",
   "metadata": {},
   "source": [
    "## (4th order polynomial) quartic is the best since squared error is the smallest"
   ]
  },
  {
   "cell_type": "code",
   "execution_count": null,
   "metadata": {
    "collapsed": true
   },
   "outputs": [],
   "source": []
  }
 ],
 "metadata": {
  "kernelspec": {
   "display_name": "Python 3",
   "language": "python",
   "name": "python3"
  },
  "language_info": {
   "codemirror_mode": {
    "name": "ipython",
    "version": 3
   },
   "file_extension": ".py",
   "mimetype": "text/x-python",
   "name": "python",
   "nbconvert_exporter": "python",
   "pygments_lexer": "ipython3",
   "version": "3.6.1"
  }
 },
 "nbformat": 4,
 "nbformat_minor": 2
}
