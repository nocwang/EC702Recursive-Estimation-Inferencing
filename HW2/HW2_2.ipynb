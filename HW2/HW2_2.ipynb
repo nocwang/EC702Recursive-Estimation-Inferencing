{
 "cells": [
  {
   "cell_type": "code",
   "execution_count": 2,
   "metadata": {
    "collapsed": true
   },
   "outputs": [],
   "source": [
    "import matplotlib.pyplot as plt\n",
    "import numpy as np\n",
    "import pandas as pd"
   ]
  },
  {
   "cell_type": "code",
   "execution_count": 19,
   "metadata": {
    "scrolled": true
   },
   "outputs": [
    {
     "name": "stdout",
     "output_type": "stream",
     "text": [
      "(512,)\n"
     ]
    },
    {
     "data": {
      "text/plain": [
       "array([ 195.40012,  185.72068,  196.16014,  195.35386,  217.44663,\n",
       "        207.80411,  201.25959,  197.77452,  201.69585,  208.66447])"
      ]
     },
     "execution_count": 19,
     "metadata": {},
     "output_type": "execute_result"
    }
   ],
   "source": [
    "y_all= np.loadtxt('linemeas.txt')\n",
    "print(y_all.shape)\n",
    "y_all[:10]"
   ]
  },
  {
   "cell_type": "markdown",
   "metadata": {},
   "source": [
    "You can do anything in numpy that you would have done in Matlab.  One small caution:  make sure your arrays are of type Matrix instead of numpy arrays so that the multiplication operator * acts like a matrix multiply rather than an element-by-element multiply.  The default * operator for numpy arrays is equivalent to the Matlab .* element by element multiply.  "
   ]
  },
  {
   "cell_type": "code",
   "execution_count": 20,
   "metadata": {
    "collapsed": true
   },
   "outputs": [],
   "source": [
    "# no control term B*u\n",
    "def kalman_update(x, P, y, R, G, Q, A, C):\n",
    "    '''\n",
    "    Parameters:\n",
    "    x: initial state\n",
    "    P: initial uncertainty convariance matrix\n",
    "    y: observed position measurement (same shape as C*x)\n",
    "    R: measurement noise convariance matrix(same shape as C)\n",
    "    Q: motion noise convariance matrix \n",
    "    A: next state function: x_prime = A*x+G*w\n",
    "    C: measurement function: y = C*x+v\n",
    "\n",
    "    Return: the updated new values for (x, P)\n",
    "    '''\n",
    "    # UPDATE x, P; x(t|t), P(t|t) based on measurement y   and x(t|t-1), P(t|t-1)\n",
    "    S = C * P * C.T + R  # residual convariance\n",
    "    K = P * C.T * S.I    # Kalman gain\n",
    "    x = x + K*(y.T - C * x)#np.matrix(y)\n",
    "    P = P - K*C*P\n",
    "#     I = np.matrix(np.eye(A.shape[0])) # identity matrix\n",
    "#     P = (I - K*C)*P\n",
    "\n",
    "    return x, P\n",
    "\n",
    "def kalman_predict(x, P, y, R, G, Q, A, C):\n",
    "    '''\n",
    "    Return: the  predicted new values for (x, P)\n",
    "    '''\n",
    "    # PREDICT x(t+1|t), P(t+1|t) based after updated value x(t|t), P(t|t)\n",
    "    x = A*x \n",
    "    P = A*P*A.T + G*Q*G.T\n",
    "\n",
    "    return x, P"
   ]
  },
  {
   "cell_type": "code",
   "execution_count": 16,
   "metadata": {},
   "outputs": [],
   "source": [
    "# np.matrix(np.eye(4))\n",
    "# np.zeros((2, 4))\n",
    "\n",
    "# np.matrix(y)#matrix([[-18.338,  -7.838]])\n",
    "# np.diag([ sigma_b2,  sigma_a2, sigma_b2])\n",
    "# np.matrix(np.diag([ q,  0, 0])) #\n",
    "# np.matrix([[ 1.,  0.,  0.]])"
   ]
  },
  {
   "cell_type": "code",
   "execution_count": 53,
   "metadata": {},
   "outputs": [
    {
     "name": "stdout",
     "output_type": "stream",
     "text": [
      "(3, 1)\n",
      "(1, 3)\n"
     ]
    }
   ],
   "source": [
    "sigma_b2=10000\n",
    "sigma_a2=16\n",
    "q=0.04\n",
    "r=100\n",
    "\n",
    "x = np.matrix([ 256,  0., 256]).T#np.matrix(np.zeros((4, 1)))\n",
    "print(x.shape)\n",
    "# P = np.matrix(np.diag([ sigma_b2,  sigma_a2, sigma_b2])) # initial uncertainty! not independent!!\n",
    "P = np.matrix([[ sigma_b2,  0.,  sigma_b2],\n",
    "            [ 0.,  sigma_a2,  0.],\n",
    "            [ sigma_b2,  0.,  sigma_b2]])\n",
    "Q = np.matrix(np.diag([ q,  0, 0])) #0.09*np.matrix(np.eye(2))\n",
    "R = r  \n",
    "G= np.matrix(np.eye(3))\n",
    "A=np.matrix([[ 1.,  1.,  0.],\n",
    "            [ 0.,  1.,  0.],\n",
    "            [ 0.,  0.,  1.]])\n",
    "C=np.matrix([[ 1.,  0.,  0.]])\n",
    "print(C.shape)"
   ]
  },
  {
   "cell_type": "code",
   "execution_count": 54,
   "metadata": {},
   "outputs": [],
   "source": [
    "result_update = []\n",
    "result_predict = []    \n",
    "for y in y_all:\n",
    "    y=np.matrix(y)# row matrix\n",
    "    x, P = kalman_update(x, P, y, R, G, Q, A, C)\n",
    "    result_update.append((x).tolist())#x[[1,2]]\n",
    "    x, P = kalman_predict(x, P, y, R, G, Q, A, C)    \n",
    "    result_predict.append((x).tolist())\n",
    "\n",
    "kalman_u1, kalman_u2, kalman_u3 = zip(*result_update)\n",
    "kalman_p1, kalman_p2, kalman_p3 = zip(*result_predict)"
   ]
  },
  {
   "cell_type": "markdown",
   "metadata": {},
   "source": [
    "The input file ”linemeas.txt” in the assignment directory contains\n",
    "a vector of 512 mesurements. Process all 512 measurements through the Kalman filter to get the best\n",
    "estimate of the coefficients a, b from the image data. Report the estimates."
   ]
  },
  {
   "cell_type": "markdown",
   "metadata": {},
   "source": [
    "# 2 (c)"
   ]
  },
  {
   "cell_type": "markdown",
   "metadata": {},
   "source": [
    "## predicted and updated estimate of the coefficients a from the image data through the Kalman filter "
   ]
  },
  {
   "cell_type": "code",
   "execution_count": 55,
   "metadata": {},
   "outputs": [
    {
     "data": {
      "image/png": "[encoded data removed]",
      "text/plain": [
       "<matplotlib.figure.Figure at 0x7f52f0ace6d8>"
      ]
     },
     "metadata": {},
     "output_type": "display_data"
    }
   ],
   "source": [
    "# red line is updated estimate and blue is predicted estimate\n",
    "plt.plot(range(len(kalman_u2)), kalman_u2, 'r.')\n",
    "plt.plot(range(len(kalman_p2)), kalman_p2, 'b-')\n",
    "plt.show()"
   ]
  },
  {
   "cell_type": "markdown",
   "metadata": {},
   "source": [
    "## predicted and updated estimate of the coefficients   b from the image data through the Kalman filter "
   ]
  },
  {
   "cell_type": "code",
   "execution_count": 56,
   "metadata": {},
   "outputs": [
    {
     "data": {
      "image/png": "[encoded data removed]",
      "text/plain": [
       "<matplotlib.figure.Figure at 0x7f52f0f2c828>"
      ]
     },
     "metadata": {},
     "output_type": "display_data"
    }
   ],
   "source": [
    "# red line is updated estimate and blue is predicted estimate\n",
    "plt.plot(range(len(kalman_u3)), kalman_u3, 'r.')\n",
    "plt.plot(range(len(kalman_p3)), kalman_p3, 'b-')\n",
    "plt.show()"
   ]
  },
  {
   "cell_type": "markdown",
   "metadata": {},
   "source": [
    "# 2 (d)"
   ]
  },
  {
   "cell_type": "markdown",
   "metadata": {},
   "source": [
    "Use the outputs of the Kalman filter to estimate the variances of the estimates of a, b at the final time\n",
    "generated after processing all 512 measurements. Report the individual variances of a, b and their cross-\n",
    "covariance. Note that the final estimate of a, b correspond to a fixed-point smoother estimate of these\n",
    "parameters using all the data."
   ]
  },
  {
   "cell_type": "code",
   "execution_count": 57,
   "metadata": {},
   "outputs": [
    {
     "data": {
      "text/plain": [
       "matrix([[  2.26767791e+00,   4.90263675e-03,  -2.42484366e-01],\n",
       "        [  4.90263675e-03,   9.70839754e-05,  -4.80460135e-03],\n",
       "        [ -2.42484366e-01,  -4.80460135e-03,   2.21748353e+00]])"
      ]
     },
     "execution_count": 57,
     "metadata": {},
     "output_type": "execute_result"
    }
   ],
   "source": [
    "P"
   ]
  },
  {
   "cell_type": "code",
   "execution_count": 59,
   "metadata": {},
   "outputs": [
    {
     "name": "stdout",
     "output_type": "stream",
     "text": [
      " variances of a is 9.70839753641e-05, variances of b is 2.21748353477, and their cross-covariance is -0.00480460134661\n"
     ]
    }
   ],
   "source": [
    "print(' variances of a is ' +str(P[1,1]) +', variances of b is ' +str(P[2,2]) +', and their cross-covariance is ' +str(P[2,1]) )"
   ]
  },
  {
   "cell_type": "markdown",
   "metadata": {},
   "source": [
    "Reference: shared code\n",
    " https://stackoverflow.com/questions/13901997/kalman-2d-filter-in-python"
   ]
  }
 ],
 "metadata": {
  "kernelspec": {
   "display_name": "Python 3",
   "language": "python",
   "name": "python3"
  },
  "language_info": {
   "codemirror_mode": {
    "name": "ipython",
    "version": 3
   },
   "file_extension": ".py",
   "mimetype": "text/x-python",
   "name": "python",
   "nbconvert_exporter": "python",
   "pygments_lexer": "ipython3",
   "version": "3.6.1"
  }
 },
 "nbformat": 4,
 "nbformat_minor": 2
}
