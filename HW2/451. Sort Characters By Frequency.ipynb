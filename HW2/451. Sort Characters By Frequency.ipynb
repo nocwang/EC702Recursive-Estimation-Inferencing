{
 "cells": [
  {
   "cell_type": "code",
   "execution_count": null,
   "metadata": {
    "collapsed": true
   },
   "outputs": [],
   "source": [
    "class Solution:\n",
    "    def frequencySort(self, s):\n",
    "        \"\"\"\n",
    "        :type s: str\n",
    "        :rtype: str\n",
    "        \"\"\"\n",
    "        # return \"\".join([char * times for char, times in collections.Counter(str).most_common()])\n",
    "        import operator\n",
    "        if not s:\n",
    "            return \"\"\n",
    "        counter = {}; rs = ''\n",
    "        for i in s:\n",
    "            if i not in counter:\n",
    "                counter[i] = 1  \n",
    "            else: \n",
    "                counter[i] = counter[i] +1\n",
    "            # counter[i] = 1 if i not in counter else counter[i]+1\n",
    "        sorted_counter = sorted(counter.items(), key=operator.itemgetter(1), reverse=True)\n",
    "        # sorted_counter.reverse()\n",
    "        for i in sorted_counter:\n",
    "            rs += i[0] * i[1]\n",
    "        return rs"
   ]
  },
  {
   "cell_type": "code",
   "execution_count": 1,
   "metadata": {
    "collapsed": true
   },
   "outputs": [],
   "source": [
    "s=\"tree\""
   ]
  },
  {
   "cell_type": "code",
   "execution_count": 21,
   "metadata": {},
   "outputs": [],
   "source": [
    "import operator\n",
    "# if not s:\n",
    "#     return \"\"\n",
    "counter = {}; rs = ''\n",
    "for i in s:\n",
    "    if i not in counter:\n",
    "        counter[i] = 1  \n",
    "    else: \n",
    "        counter[i] = counter[i] +1"
   ]
  },
  {
   "cell_type": "code",
   "execution_count": 22,
   "metadata": {},
   "outputs": [
    {
     "data": {
      "text/plain": [
       "{'e': 2, 'r': 1, 't': 1}"
      ]
     },
     "execution_count": 22,
     "metadata": {},
     "output_type": "execute_result"
    }
   ],
   "source": [
    "counter\n",
    "# 例如要通过student的第三个域排序，可以这么写：\n",
    "# sorted(students, key=operator.itemgetter(2)) \n",
    "# sorted函数也可以进行多级排序，例如要根据第二个域和第三个域进行排序，可以这么写：\n",
    "# sorted(students, key=operator.itemgetter(1,2)) "
   ]
  },
  {
   "cell_type": "code",
   "execution_count": 13,
   "metadata": {},
   "outputs": [
    {
     "data": {
      "text/plain": [
       "dict_items([('t', 1), ('r', 1), ('e', 2)])"
      ]
     },
     "execution_count": 13,
     "metadata": {},
     "output_type": "execute_result"
    }
   ],
   "source": [
    "counter.items()"
   ]
  },
  {
   "cell_type": "code",
   "execution_count": 14,
   "metadata": {},
   "outputs": [
    {
     "data": {
      "text/plain": [
       "[('e', 2), ('t', 1), ('r', 1)]"
      ]
     },
     "execution_count": 14,
     "metadata": {},
     "output_type": "execute_result"
    }
   ],
   "source": [
    "sorted_counter = sorted(counter.items(), key=operator.itemgetter(1), reverse=True)#\n",
    "sorted_counter"
   ]
  },
  {
   "cell_type": "code",
   "execution_count": 7,
   "metadata": {},
   "outputs": [
    {
     "name": "stdout",
     "output_type": "stream",
     "text": [
      "e\n",
      "2\n",
      "ee\n",
      "('e', 2)\n",
      "r\n",
      "1\n",
      "r\n",
      "('r', 1)\n",
      "t\n",
      "1\n",
      "t\n",
      "('t', 1)\n"
     ]
    }
   ],
   "source": [
    "# sorted_counter.reverse()\n",
    "for i in sorted_counter:\n",
    "    print(i[0])\n",
    "    print(i[1])\n",
    "    print(i[0] * i[1])\n",
    "    print(i)\n",
    "#     rs += i[0] * i[1]\n",
    "# return rs"
   ]
  },
  {
   "cell_type": "code",
   "execution_count": null,
   "metadata": {
    "collapsed": true
   },
   "outputs": [],
   "source": [
    "# 昨天准备了一天，petuum面经各种题，总结如下：-google 1point3acres\n",
    "# Valid parenthesis\n",
    "# Char frequency(用bucket sort)\n",
    "# 写一个calculator\n",
    "# Meeting room II\n",
    "# Binary Search to find the first index where array[index] > target x. 鐣欏鐢宠璁哄潧-涓€浜╀笁鍒嗗湴\n",
    "# Print words from 1 - 100\n",
    "# Find subarray with max sum and length >= k\n",
    "# Number of Islands(要用BFS) + 比较麻烦的followup，就是如果2-D array变成N-D array怎么办\n",
    "# 关于followup，其实很简单，就是干脆把N-D array里每一个value的index (这个index有N个维度)，写成一个set/list/array/string; 比如对于3-D array: [[[1,1], [1,1]], [[2, 2], [2, 2]], [[3, 3], [3, 3]]]\n",
    "# 那么整个array的第一个\"1\",表示成 [0, 0, 0], 第二个“1”表示成[0, 0, 1]。。。以此类推。当然要注意每个dimension是有length limit的。然后就套用到BFS上去，每个维度在原来基础上index都 + 1 和 -1即可"
   ]
  },
  {
   "cell_type": "code",
   "execution_count": 42,
   "metadata": {
    "collapsed": true
   },
   "outputs": [],
   "source": [
    "array= [0, 1, 2, 8, 13, 17, 19, 32, 42]\n",
    "x= 41#0"
   ]
  },
  {
   "cell_type": "code",
   "execution_count": 43,
   "metadata": {},
   "outputs": [],
   "source": [
    "def binarySearch(array, x):\n",
    "    first = 0\n",
    "    last = len(array) - 1\n",
    "    if array[first]>x:\n",
    "        return 0\n",
    "    elif array[last]<=x:\n",
    "        return -1\n",
    "    else:#  array[first]<=x<array[last]\n",
    "        while first<last-1:\n",
    "            mid=first+(last-first)//2\n",
    "            if array[mid]>x:\n",
    "                last=mid\n",
    "            else:\n",
    "                first=mid\n",
    "\n",
    "    return last"
   ]
  },
  {
   "cell_type": "code",
   "execution_count": 44,
   "metadata": {},
   "outputs": [
    {
     "data": {
      "text/plain": [
       "8"
      ]
     },
     "execution_count": 44,
     "metadata": {},
     "output_type": "execute_result"
    }
   ],
   "source": [
    "# last\n",
    "# mid\n",
    "# first\n",
    "binarySearch(array, x)"
   ]
  },
  {
   "cell_type": "code",
   "execution_count": null,
   "metadata": {
    "collapsed": true
   },
   "outputs": [],
   "source": []
  }
 ],
 "metadata": {
  "kernelspec": {
   "display_name": "Python 3",
   "language": "python",
   "name": "python3"
  },
  "language_info": {
   "codemirror_mode": {
    "name": "ipython",
    "version": 3
   },
   "file_extension": ".py",
   "mimetype": "text/x-python",
   "name": "python",
   "nbconvert_exporter": "python",
   "pygments_lexer": "ipython3",
   "version": "3.6.1"
  }
 },
 "nbformat": 4,
 "nbformat_minor": 2
}
