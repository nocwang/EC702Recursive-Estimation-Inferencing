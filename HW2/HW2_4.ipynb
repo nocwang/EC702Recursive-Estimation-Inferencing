{
 "cells": [
  {
   "cell_type": "code",
   "execution_count": 1,
   "metadata": {},
   "outputs": [
    {
     "data": {
      "text/plain": [
       "(50, 2)"
      ]
     },
     "execution_count": 1,
     "metadata": {},
     "output_type": "execute_result"
    }
   ],
   "source": [
    "import matplotlib.pyplot as plt\n",
    "import numpy as np\n",
    "import pandas as pd\n",
    "\n",
    "y20= np.loadtxt('radar-measurements.txt')\n",
    "y20.shape\n",
    "# y20"
   ]
  },
  {
   "cell_type": "code",
   "execution_count": 50,
   "metadata": {},
   "outputs": [],
   "source": [
    "# plt.scatter(y20[:,0], y20[:,1])\n",
    "# plt.show()"
   ]
  },
  {
   "cell_type": "markdown",
   "metadata": {},
   "source": [
    "You can do anything in numpy that you would have done in Matlab.  One small caution:  make sure your arrays are of type Matrix instead of numpy arrays so that the multiplication operator * acts like a matrix multiply rather than an element-by-element multiply.  The default * operator for numpy arrays is equivalent to the Matlab .* element by element multiply.  "
   ]
  },
  {
   "cell_type": "code",
   "execution_count": 3,
   "metadata": {
    "collapsed": true
   },
   "outputs": [],
   "source": [
    "def kalman_update(x, P, y, R, G, Q, A, C):\n",
    "    '''\n",
    "    Parameters:\n",
    "    x: initial state\n",
    "    P: initial uncertainty convariance matrix\n",
    "    y: observed position measurement (same shape as C*x)\n",
    "    R: measurement noise convariance matrix(same shape as C)\n",
    "    Q: motion noise convariance matrix \n",
    "    A: next state function: x_prime = A*x+G*w\n",
    "    C: measurement function: y = C*x+v\n",
    "\n",
    "    Return: the updated new values for (x, P)\n",
    "    '''\n",
    "    # UPDATE x, P; x(t|t), P(t|t) based on measurement y   and x(t|t-1), P(t|t-1)\n",
    "    S = C * P * C.T + R  # residual convariance\n",
    "    K = P * C.T * S.I    # Kalman gain\n",
    "    x = x + K*(y.T - C * x)#np.matrix(y)\n",
    "    P = P - K*C*P\n",
    "#     I = np.matrix(np.eye(A.shape[0])) # identity matrix\n",
    "#     P = (I - K*C)*P\n",
    "\n",
    "    return x, P\n",
    "\n",
    "def kalman_predict(x, P, y, R, G, Q, A, C):\n",
    "    '''\n",
    "    Return: the  predicted new values for (x, P)\n",
    "    '''\n",
    "    # PREDICT x(t+1|t), P(t+1|t) based after updated value x(t|t), P(t|t)\n",
    "    x = A*x \n",
    "    P = A*P*A.T + G*Q*G.T\n",
    "\n",
    "    return x, P"
   ]
  },
  {
   "cell_type": "code",
   "execution_count": 20,
   "metadata": {
    "collapsed": true
   },
   "outputs": [],
   "source": [
    "x = np.matrix(np.zeros((6, 1)))\n",
    "P = np.matrix(np.diag([ 10**8, 10**8,  10**4,  10**2,  10**2,  10**2]))#np.matrix(np.eye(6)) # initial uncertainty\n",
    "Q= np.matrix(np.zeros((6,6)))\n",
    "Q[2,2]=1225\n",
    "Q[5,5]=0.0001\n",
    "R = np.matrix(np.diag([ 10**4,  0.0025]))#0.16*np.matrix(np.eye(2))\n",
    "G = np.matrix(np.eye(6)) \n",
    "\n",
    "T=5\n",
    "p=0.5\n",
    "A = np.matrix(np.zeros((6,6)))\n",
    "A33=np.matrix([[ 1.,  T,  0.],\n",
    "            [ 0.,  1.,  1],\n",
    "            [ 0.,  0.,  p]])\n",
    "A[:3,:3]=A33\n",
    "A[3:,3:]=A33\n",
    "\n",
    "C=np.matrix([[ 1.,  0., 0.,  0.,  0.,  0.],\n",
    "             [ 0.,  0., 0,   1.,  0.,  0.]])"
   ]
  },
  {
   "cell_type": "markdown",
   "metadata": {},
   "source": [
    "# 4 (b)"
   ]
  },
  {
   "cell_type": "code",
   "execution_count": 34,
   "metadata": {
    "collapsed": true
   },
   "outputs": [],
   "source": [
    "result = []    \n",
    "resultP = [] \n",
    "for y in y20:\n",
    "    y=np.matrix(y)# row matrix\n",
    "    x, P = kalman_update(x, P, y, R, G, Q, A, C)\n",
    "    result.append((x[[0,3]]).tolist())\n",
    "    resultP.append((np.diag(P)[[0,3]]).tolist())\n",
    "    x, P = kalman_predict(x, P, y, R, G, Q, A, C)"
   ]
  },
  {
   "cell_type": "code",
   "execution_count": 162,
   "metadata": {},
   "outputs": [
    {
     "data": {
      "image/png": "[encoded data removed]",
      "text/plain": [
       "<matplotlib.figure.Figure at 0x7f4b46f4dbe0>"
      ]
     },
     "metadata": {},
     "output_type": "display_data"
    }
   ],
   "source": [
    "kalman_x, kalman_y = zip(*result)\n",
    "plt.figure(figsize=(6,2))\n",
    "plt.plot(kalman_x, kalman_y, 'g-')\n",
    "plt.scatter(y20[:,0], y20[:,1])\n",
    "plt.show()"
   ]
  },
  {
   "cell_type": "markdown",
   "metadata": {},
   "source": [
    "green line is Kalman filter;\n",
    "blue scatter is  y, noisy observation of r, theta (r, θ) "
   ]
  },
  {
   "cell_type": "markdown",
   "metadata": {},
   "source": [
    "# 4 (c)"
   ]
  },
  {
   "cell_type": "markdown",
   "metadata": {},
   "source": [
    "In the homework folder, there is a file called radar-measurements.txt, wich corresponds to 50 mea-\n",
    "surements of an object flying through this two-dimensional air space, sampled at 5 second intervals. The\n",
    "measurements are stored as a 50 x 2 matrix, with the first row corresponding to the noisy measurement\n",
    "(r, θ) at time 0. Run your Kalman filter with these measurements, and obtain the updated estimate\n",
    "of (r, θ) after 25 measurements are processed (ˆ\n",
    "x (24|24)). Record these and the values of the standard\n",
    "deviation of the error in estimating r and θ, obtained from the respective diagonal entries of the updated\n",
    "covariance P (t|t)."
   ]
  },
  {
   "cell_type": "code",
   "execution_count": 44,
   "metadata": {},
   "outputs": [
    {
     "name": "stdout",
     "output_type": "stream",
     "text": [
      "updated estimate of (r, θ) after 25 measurements are[33992.14714557971]and[1.804114042527401]\n"
     ]
    }
   ],
   "source": [
    "print('updated estimate of (r, θ) after 25 measurements are' +str(kalman_x[24]) +'and' + str(kalman_y[24] ))"
   ]
  },
  {
   "cell_type": "code",
   "execution_count": 49,
   "metadata": {},
   "outputs": [
    {
     "name": "stdout",
     "output_type": "stream",
     "text": [
      "standard deviation of the error in estimating r and θ are [8921.638789263408, 0.002059660597678578]\n"
     ]
    }
   ],
   "source": [
    "print('standard deviation of the error in estimating r and θ are ' +str(resultP[24]))"
   ]
  },
  {
   "cell_type": "markdown",
   "metadata": {},
   "source": [
    "# 4 (d)"
   ]
  },
  {
   "cell_type": "markdown",
   "metadata": {},
   "source": [
    "(d) Implement a non-causal smoothing algorithm for this problem, and process all 50 measurements to\n",
    "generate the smoothed estimate of (r, θ) corresponding to x\n",
    "ˆ (24|49). Report this value and the standard\n",
    "deviations for estimating r, θ obtained from the respective diagonal entries of the smoothed covariance\n",
    "P (24|49).\n"
   ]
  },
  {
   "cell_type": "markdown",
   "metadata": {},
   "source": [
    "Forward Kalman Filter"
   ]
  },
  {
   "cell_type": "code",
   "execution_count": 56,
   "metadata": {},
   "outputs": [],
   "source": [
    "N=y20.shape[0]\n",
    "n_x=6"
   ]
  },
  {
   "cell_type": "code",
   "execution_count": 89,
   "metadata": {},
   "outputs": [],
   "source": [
    "x = np.matrix(np.zeros((6, 1)))\n",
    "P = np.matrix(np.diag([ 10**8, 10**8,  10**4,  10**2,  10**2,  10**2]))#np.matrix(np.eye(6)) # initial uncertainty\n",
    "\n",
    "result_z = np.matrix(np.zeros((n_x,N)))#[]    \n",
    "result_invP = np.zeros((N, n_x, n_x))#np.matrix()#[] \n",
    "k= 0\n",
    "for y in y20:\n",
    "    y=np.matrix(y)# row matrix\n",
    "    x, P = kalman_update(x, P, y, R, G, Q, A, C)\n",
    "    result_z[:,k] = P.I*x\n",
    "    result_invP[k,:,:]= P.I\n",
    "#     result.append((x[[0,3]]).tolist())\n",
    "#     resultP.append((np.diag(P)[[0,3]]).tolist())\n",
    "    x, P = kalman_predict(x, P, y, R, G, Q, A, C)\n",
    "    k= k + 1"
   ]
  },
  {
   "cell_type": "code",
   "execution_count": 78,
   "metadata": {},
   "outputs": [
    {
     "data": {
      "text/plain": [
       "array([  8.92163879e+03,   2.21415473e+03,   1.56992649e+03,\n",
       "         2.05966060e-03,   2.45832804e-04,   1.29530903e-04])"
      ]
     },
     "execution_count": 78,
     "metadata": {},
     "output_type": "execute_result"
    }
   ],
   "source": [
    "# check whether it's consistent with 4(c)\n",
    "np.diag(np.matrix(result_invP[24,:,:]).I)"
   ]
  },
  {
   "cell_type": "markdown",
   "metadata": {},
   "source": [
    "Backward Kalman Filter with information form"
   ]
  },
  {
   "cell_type": "code",
   "execution_count": 80,
   "metadata": {
    "collapsed": true
   },
   "outputs": [],
   "source": [
    "# A invertible for information form, G=I\n",
    "def kalman_update_information(z, Pinv, y, R, G, Q, A, C):\n",
    "    '''\n",
    "    Parameters:\n",
    "    x: initial state\n",
    "    P: initial uncertainty convariance matrix\n",
    "    z: Pinv*x\n",
    "    Pinv: P inverse\n",
    "    y: observed position measurement (same shape as C*x)\n",
    "    R: measurement noise convariance matrix(same shape as C)\n",
    "    Q: motion noise convariance matrix \n",
    "    A: next state function: x_prime = A*x+G*w\n",
    "    C: measurement function: y = C*x+v\n",
    "\n",
    "    Return: the updated new values for (x, P)\n",
    "    '''\n",
    "    # UPDATE  z(t|t), Pinv(t|t) based on measurement y   and x(t|t-1), P(t|t-1)\n",
    "    z= z+ C.T * R.I *y \n",
    "    Pinv= Pinv + C.T * R.I * C    \n",
    "    return z, Pinv\n",
    "\n",
    "def kalman_predict_information(z, Pinv, y, R, G, Q, A, C):\n",
    "    '''\n",
    "    Return: the  predicted new values for (x, P)\n",
    "    '''\n",
    "    # PREDICT z(t+1|t), Pinv(t+1|t) based after updated value x(t|t), P(t|t)\n",
    "    Identity = np.matrix(np.eye(A.shape[0])) # identity matrix\n",
    "    M= A.I.T * Pinv * A.I\n",
    "    N= M *G *Q *(Identity + G.T* M *G *Q ).I\n",
    "    z= (Identity + M *G *Q *G.T ).I * A.I.T * z\n",
    "#     [Identity - N] *A.I.T *z\n",
    "    Pinv=M-N*G.T*M #(Identity + M *G *Q *G.T ).I * M\n",
    "\n",
    "    return z, Pinv"
   ]
  },
  {
   "cell_type": "code",
   "execution_count": 92,
   "metadata": {
    "collapsed": true
   },
   "outputs": [],
   "source": [
    "y_reverse= np.flip(y20,0)\n",
    "Ainv=A.I\n",
    "Gnew=Ainv\n",
    "\n",
    "z=0\n",
    "Pinv=np.matrix(np.zeros((n_x, n_x)))\n",
    "# y1\n",
    "result_z_back = np.matrix(np.zeros((n_x,N)))#[]    \n",
    "result_invP_back = np.zeros((N, n_x, n_x))#np.matrix()#[] \n",
    "\n",
    "k= 0\n",
    "for y in y_reverse:\n",
    "    y=np.matrix(y).T# row matrix\n",
    "    z, Pinv = kalman_update_information(z, Pinv, y, R, Gnew, Q, Ainv, C)\n",
    "    z, Pinv = kalman_predict_information(z, Pinv, y, R, Gnew, Q, Ainv, C)\n",
    "    result_z_back[:,k] = z\n",
    "    result_invP_back[k,:,:]= Pinv\n",
    "    k= k + 1"
   ]
  },
  {
   "cell_type": "code",
   "execution_count": 145,
   "metadata": {},
   "outputs": [],
   "source": [
    "# # result_z_back\n",
    "# plt.plot(range(len(result_z_back.T)), result_z_back.T, 'g-')\n",
    "# plt.show()"
   ]
  },
  {
   "cell_type": "code",
   "execution_count": 126,
   "metadata": {},
   "outputs": [],
   "source": [
    "z_smooth=result_z + np.flip(result_z_back,1)\n",
    "z_smooth24=z_smooth[:,24]\n",
    "\n",
    "x_49=np.matrix(np.zeros((N,n_x)))\n",
    "Pinv_smooth=result_invP_back.copy()\n",
    "for k in range(N):\n",
    "    Pinv_smooth[k,:,:]+=result_invP[k,:,:]\n",
    "    x_49[k,:] = (np.matrix(Pinv_smooth[k,:,:]).I  * z_smooth[:,k]).T\n",
    "#     print(k)\n",
    "\n",
    "x24_49=np.matrix(Pinv_smooth[24,:,:]).I * z_smooth24\n",
    "P24_49=np.matrix(Pinv_smooth[24,:,:]).I "
   ]
  },
  {
   "cell_type": "code",
   "execution_count": 127,
   "metadata": {},
   "outputs": [
    {
     "data": {
      "text/plain": [
       "matrix([[  3.40630962e+04,  -2.75763483e+01,  -2.84815705e+01,\n",
       "           1.76585017e+00,   5.11442195e-03,  -3.75723278e-03]])"
      ]
     },
     "execution_count": 127,
     "metadata": {},
     "output_type": "execute_result"
    }
   ],
   "source": [
    "x_49[24]"
   ]
  },
  {
   "cell_type": "code",
   "execution_count": 124,
   "metadata": {},
   "outputs": [
    {
     "name": "stdout",
     "output_type": "stream",
     "text": [
      "the smoothed estimate of (r, θ) corresponding to x(24|49) is[[  3.40630962e+04]\n",
      " [  1.76585017e+00]]\n",
      "the standard deviations for estimating r, θ is[  4.94992042e+03   9.66380312e-04] obtained from the respective diagonal entries of the smoothed covariance P(24|49).\n"
     ]
    }
   ],
   "source": [
    "print('the smoothed estimate of (r, θ) corresponding to x(24|49) is' + str(x24_49[[0,3]]))\n",
    "print('the standard deviations for estimating r, θ is' + str(np.diag(P24_49)[[0,3]]) +\n",
    "       ' obtained from the respective diagonal entries of the smoothed covariance P(24|49).')"
   ]
  },
  {
   "cell_type": "code",
   "execution_count": 163,
   "metadata": {},
   "outputs": [
    {
     "data": {
      "image/png": "[encoded data removed]",
      "text/plain": [
       "<matplotlib.figure.Figure at 0x7f4b46f58208>"
      ]
     },
     "metadata": {},
     "output_type": "display_data"
    }
   ],
   "source": [
    "plt.figure(figsize=(6,2))\n",
    "plt.plot(range(len((Pinv_smooth[:,0,0]))), Pinv_smooth[:,0,0], 'g-')\n",
    "plt.title('Pinv increase (variance decrease) for smoothed estimate of r versus discrete time t')\n",
    "plt.show()"
   ]
  },
  {
   "cell_type": "markdown",
   "metadata": {},
   "source": [
    "# 4 (e)"
   ]
  },
  {
   "cell_type": "markdown",
   "metadata": {
    "collapsed": true
   },
   "source": [
    "(e) Show a single plot comparing the filtered estimate of r versus discrete time t and the smoothed estimate of r versus discrete time t. Show another plot for the filtered estimate of θ versus discrete time t and the smoothed estimate of theta."
   ]
  },
  {
   "cell_type": "code",
   "execution_count": 133,
   "metadata": {
    "collapsed": true
   },
   "outputs": [],
   "source": [
    "#CALCULATE filter\n",
    "x_49_filter=np.matrix(np.zeros((N,n_x)))\n",
    "for k in range(N):\n",
    "    x_49_filter[k,:] = (np.matrix(result_invP[k,:,:]).I  * result_z[:,k]).T"
   ]
  },
  {
   "cell_type": "code",
   "execution_count": 139,
   "metadata": {},
   "outputs": [
    {
     "data": {
      "image/png": "[encoded data removed]",
      "text/plain": [
       "<matplotlib.figure.Figure at 0x7f4b46d3a4e0>"
      ]
     },
     "metadata": {},
     "output_type": "display_data"
    }
   ],
   "source": [
    "plt.plot(range(len(x_49_filter[:,0])), x_49_filter[:,0], 'r.')\n",
    "plt.plot(range(len(x_49[:,0])), x_49[:,0], 'g-.')\n",
    "plt.title('comparing the filtered/smoothed estimate of r versus discrete time t')\n",
    "plt.show()"
   ]
  },
  {
   "cell_type": "code",
   "execution_count": 140,
   "metadata": {},
   "outputs": [
    {
     "data": {
      "image/png": "[encoded data removed]",
      "text/plain": [
       "<matplotlib.figure.Figure at 0x7f4b46dfff28>"
      ]
     },
     "metadata": {},
     "output_type": "display_data"
    }
   ],
   "source": [
    "plt.plot(range(len(x_49_filter[:,3])), x_49_filter[:,3], 'r.')\n",
    "plt.plot(range(len(x_49[:,3])), x_49[:,3], 'g-.')\n",
    "plt.title('comparing the filtered/smoothed estimate of θ versus discrete time t')\n",
    "plt.show()"
   ]
  },
  {
   "cell_type": "code",
   "execution_count": 165,
   "metadata": {},
   "outputs": [],
   "source": [
    "# plt.figure(figsize=(6,2))\n",
    "# plt.plot(x_49_filter[:,0], x_49_filter[:,3], 'r.')\n",
    "# plt.show()"
   ]
  }
 ],
 "metadata": {
  "kernelspec": {
   "display_name": "Python 3",
   "language": "python",
   "name": "python3"
  },
  "language_info": {
   "codemirror_mode": {
    "name": "ipython",
    "version": 3
   },
   "file_extension": ".py",
   "mimetype": "text/x-python",
   "name": "python",
   "nbconvert_exporter": "python",
   "pygments_lexer": "ipython3",
   "version": "3.6.1"
  }
 },
 "nbformat": 4,
 "nbformat_minor": 2
}
